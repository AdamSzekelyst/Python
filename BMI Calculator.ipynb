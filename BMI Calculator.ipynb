{
 "cells": [
  {
   "cell_type": "markdown",
   "id": "7aaff08d-ca50-4b45-a96d-0e7cf555a39c",
   "metadata": {},
   "source": [
    "# BMI Calculator"
   ]
  },
  {
   "cell_type": "code",
   "execution_count": 1,
   "id": "b3d8859b-c181-4a35-a5d2-3389182c89cf",
   "metadata": {},
   "outputs": [
    {
     "name": "stdin",
     "output_type": "stream",
     "text": [
      "Enter your name:  Adam\n",
      "Enter your weight in pounds:  170\n",
      "Enter your height in inches:  69\n"
     ]
    },
    {
     "name": "stdout",
     "output_type": "stream",
     "text": [
      "BMI: 25.101869355177485\n",
      "Adam, you are overweight.\n"
     ]
    }
   ],
   "source": [
    "# Prompt the user to enter their name and store it in the 'name' variable\n",
    "name = input(\"Enter your name: \")\n",
    "\n",
    "# Prompt the user to enter their weight in pounds and store it as an integer in the 'weight' variable\n",
    "weight = int(input(\"Enter your weight in pounds: \"))\n",
    "\n",
    "# Prompt the user to enter their height in inches and store it as an integer in the 'height' variable\n",
    "height = int(input(\"Enter your height in inches: \"))\n",
    "\n",
    "# Calculate BMI using the formula and store it in the 'BMI' variable\n",
    "BMI = (weight * 703) / (height * height)\n",
    "\n",
    "# Print the calculated BMI\n",
    "print(\"BMI: \" + str(BMI))\n",
    "\n",
    "# Check the BMI range and print the corresponding weight category\n",
    "if BMI > 0 and BMI <= 18.5:\n",
    "    print(name + \", you are underweight.\")\n",
    "elif BMI > 18.5 and BMI <= 24.9:\n",
    "    print(name + \", you are normal weight.\")\n",
    "elif BMI > 24.9 and BMI <= 29.9:\n",
    "    print(name + \", you are overweight.\")\n",
    "elif BMI > 29.9 and BMI <= 34.9:\n",
    "    print(name + \", you are obese.\")\n",
    "elif BMI > 34.9 and BMI <= 39.9:\n",
    "    print(name + \", you are severely obese.\")\n",
    "elif BMI > 39.9:\n",
    "    print(name + \", you are morbidly obese.\")\n",
    "else:\n",
    "    print(\"Enter valid input!\")"
   ]
  }
 ],
 "metadata": {
  "kernelspec": {
   "display_name": "Python 3 (ipykernel)",
   "language": "python",
   "name": "python3"
  },
  "language_info": {
   "codemirror_mode": {
    "name": "ipython",
    "version": 3
   },
   "file_extension": ".py",
   "mimetype": "text/x-python",
   "name": "python",
   "nbconvert_exporter": "python",
   "pygments_lexer": "ipython3",
   "version": "3.12.4"
  }
 },
 "nbformat": 4,
 "nbformat_minor": 5
}
