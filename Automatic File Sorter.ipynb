{
 "cells": [
  {
   "cell_type": "markdown",
   "id": "aa94878d-af0c-467c-8943-210a38cdb1d7",
   "metadata": {},
   "source": [
    "# Automatic File Sorter in File Explorer"
   ]
  },
  {
   "cell_type": "code",
   "execution_count": 70,
   "id": "ba434b6f-6cb2-4abd-9889-6884256a763d",
   "metadata": {},
   "outputs": [],
   "source": [
    "import os, shutil\n",
    "\n",
    "# Define the path where files are located\n",
    "path = r\"C:/Users/szeke/OneDrive/Desktop/Automatic File Sorter/\"\n",
    "\n",
    "# List all files in the specified directory\n",
    "file_name = os.listdir(path)\n",
    "\n",
    "# Define the folder names for different file types\n",
    "folder_names = [\"webp files\", \"jpg files\", \"png files\"]\n",
    "\n",
    "# Create the folders if they don't already exist\n",
    "for folder in folder_names:\n",
    "    if not os.path.exists(path + folder):\n",
    "        os.makedirs(path + folder)\n",
    "\n",
    "# Move files into their respective folders based on file extension\n",
    "for file in file_name:\n",
    "    # Check if the file ends with '.webp' and if it doesn't already exist in the destination folder\n",
    "    if file.endswith(\".webp\") and not os.path.exists(path + \"webp files/\" + file):\n",
    "        # Move the file to the 'webp files' folder\n",
    "        shutil.move(path + file, path + \"webp files/\" + file)\n",
    "    # Check if the file ends with '.png' and if it doesn't already exist in the destination folder\n",
    "    elif file.endswith(\".png\") and not os.path.exists(path + \"png files/\" + file):\n",
    "        # Move the file to the 'png files' folder\n",
    "        shutil.move(path + file, path + \"png files/\" + file)\n",
    "    # Check if the file ends with '.jpg' and if it doesn't already exist in the destination folder\n",
    "    elif file.endswith(\".jpg\") and not os.path.exists(path + \"jpg files/\" + file):\n",
    "        # Move the file to the 'jpg files' folder\n",
    "        shutil.move(path + file, path + \"jpg files/\" + file)"
   ]
  }
 ],
 "metadata": {
  "kernelspec": {
   "display_name": "Python 3 (ipykernel)",
   "language": "python",
   "name": "python3"
  },
  "language_info": {
   "codemirror_mode": {
    "name": "ipython",
    "version": 3
   },
   "file_extension": ".py",
   "mimetype": "text/x-python",
   "name": "python",
   "nbconvert_exporter": "python",
   "pygments_lexer": "ipython3",
   "version": "3.12.4"
  }
 },
 "nbformat": 4,
 "nbformat_minor": 5
}
